{
 "cells": [
  {
   "cell_type": "markdown",
   "id": "b85e9404",
   "metadata": {},
   "source": [
    "# Data Science Tools and Ecosystem:"
   ]
  },
  {
   "cell_type": "markdown",
   "id": "b1c9dbcc",
   "metadata": {},
   "source": [
    "#### In this notebook, Data Science Tools and Ecosystem are summarized."
   ]
  },
  {
   "cell_type": "markdown",
   "id": "4fec1054",
   "metadata": {},
   "source": [
    "**Objectives:**\n",
    "\n",
    "- List popular languages for Data Science.\n",
    "- Explain the difference between supervised and unsupervised learning.\n",
    "- Introduce common open-source tools used in data analysis.\n",
    "- Discuss the importance of data preprocessing in machine learning.\n",
    "- Provide an overview of the basic steps in a typical data science workflow.\n"
   ]
  },
  {
   "cell_type": "markdown",
   "id": "daddd8b1",
   "metadata": {},
   "source": [
    "### Some of the popular languages that Data Scientists use are:\n",
    "**1** .Python\n",
    "\n",
    "**2** .R\n",
    "\n",
    "**3** .SQL"
   ]
  },
  {
   "cell_type": "markdown",
   "id": "a193beba",
   "metadata": {},
   "source": [
    "### Some of the commonly used libraries used by Data Scientists include:\n",
    "**1** .Tensorflow\n",
    "\n",
    "**2** .Pythoch\n",
    "\n",
    "**3** .Numpy\n",
    "\n",
    "**4** .Matplotlip\n",
    "\n",
    "**5** .Seaborn\n",
    "\n",
    "**6** .pandas"
   ]
  },
  {
   "cell_type": "markdown",
   "id": "a7c8c01c",
   "metadata": {},
   "source": [
    "| Data Science Tools    |\n",
    "|----------|\n",
    "| Jupyter Notebook    |\n",
    "| RStudio    | \n",
    "| Visual Studio Code  |\n"
   ]
  },
  {
   "cell_type": "markdown",
   "id": "d2e99da5",
   "metadata": {},
   "source": [
    "### Below are a few examples of evaluating arithmetic expressions in Python :\n",
    "- x = 2\n",
    "- x+1 = 3"
   ]
  },
  {
   "cell_type": "markdown",
   "id": "a2689994",
   "metadata": {},
   "source": [
    "#### This a simple arithmetic expression to mutiply then add integers :"
   ]
  },
  {
   "cell_type": "code",
   "execution_count": 2,
   "id": "ac5ad1f3",
   "metadata": {},
   "outputs": [
    {
     "data": {
      "text/plain": [
       "17"
      ]
     },
     "execution_count": 2,
     "metadata": {},
     "output_type": "execute_result"
    }
   ],
   "source": [
    "(3*4)+5"
   ]
  },
  {
   "cell_type": "markdown",
   "id": "a7796adf",
   "metadata": {},
   "source": [
    "#### This will convert 200 minutes to hours by diving by 60 :"
   ]
  },
  {
   "cell_type": "code",
   "execution_count": 11,
   "id": "252a2dbd",
   "metadata": {},
   "outputs": [
    {
     "name": "stdout",
     "output_type": "stream",
     "text": [
      "Is the : 3 h and 20.000000000000007 min\n"
     ]
    }
   ],
   "source": [
    "minutes = 200\n",
    "hours   = minutes/60\n",
    "print(f\"Is the : {int(hours)} h and {(hours % 1)*60 } min\")"
   ]
  },
  {
   "cell_type": "markdown",
   "id": "b85500f3",
   "metadata": {},
   "source": [
    "## Author :\n",
    "SAIDI NOUREDDINE"
   ]
  },
  {
   "cell_type": "code",
   "execution_count": null,
   "id": "cf75bd46",
   "metadata": {},
   "outputs": [],
   "source": []
  },
  {
   "cell_type": "code",
   "execution_count": null,
   "id": "d6f994e2",
   "metadata": {},
   "outputs": [],
   "source": []
  }
 ],
 "metadata": {
  "kernelspec": {
   "display_name": "Python 3 (ipykernel)",
   "language": "python",
   "name": "python3"
  },
  "language_info": {
   "codemirror_mode": {
    "name": "ipython",
    "version": 3
   },
   "file_extension": ".py",
   "mimetype": "text/x-python",
   "name": "python",
   "nbconvert_exporter": "python",
   "pygments_lexer": "ipython3",
   "version": "3.11.4"
  },
  "varInspector": {
   "cols": {
    "lenName": 16,
    "lenType": 16,
    "lenVar": 40
   },
   "kernels_config": {
    "python": {
     "delete_cmd_postfix": "",
     "delete_cmd_prefix": "del ",
     "library": "var_list.py",
     "varRefreshCmd": "print(var_dic_list())"
    },
    "r": {
     "delete_cmd_postfix": ") ",
     "delete_cmd_prefix": "rm(",
     "library": "var_list.r",
     "varRefreshCmd": "cat(var_dic_list()) "
    }
   },
   "types_to_exclude": [
    "module",
    "function",
    "builtin_function_or_method",
    "instance",
    "_Feature"
   ],
   "window_display": false
  }
 },
 "nbformat": 4,
 "nbformat_minor": 5
}
